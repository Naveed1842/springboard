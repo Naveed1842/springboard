{
 "cells": [
  {
   "cell_type": "markdown",
   "metadata": {},
   "source": [
    "# Capstone Project Proposal *(draft)*\n",
    "Roy Wright   &mdash;   June 5, 2016  \n",
    "  \n",
    "\n",
    "## The Problem:\n",
    "\n",
    "How well can we foresee health code violations at food service establishments based on information gathered though government channels such as citizens' recent nearby 311 service request call records (which include such details as rodent sighting and other \"unsanitary conditions\"), in conjunction with crowd-sourced (i.e. Yelp) reviews of the establishments?\n",
    "\n",
    "\n",
    "## The Client:\n",
    "\n",
    "The City of Boston, like many others, conducts health inspections of food service establishments in a largely random pattern of visits. With a model for predicting where, are also when, health code violations might be expected, the inspections can be carried out in a more targeted manner. This could make more efficient use of inspectors' time and, more importantly, increase the chances of detecting violations.\n",
    "\n",
    "\n",
    "## The Data:\n",
    "\n",
    "Listed roughly in order of importance:\n",
    "1. City of Boston health inspection records (2006 to present), available from [data.cityofboston.gov](https://data.cityofboston.gov/Health/Food-Establishment-Inspections/qndu-wx8w).\n",
    "+ City of Boston records of 311 service requests (2011 to present), available from [data.cityofboston.gov](https://data.cityofboston.gov/City-Services/311-Service-Requests/awu8-dc52)\n",
    "+ Yelp Academic Datasets (for Boston) from the 2015 \"Keeping it Fresh: Predict Restaurant Inspections\" contest hosted by [DrivenData.org](https://www.drivendata.org/competitions/5/page/17/). Available from [yelp.com](https://www.yelp.com/dataset_challenge/drivendata). \n",
    "+ Other information on Boston's food businesses and health violations available from [DrivenData.org](https://www.drivendata.org/competitions/5/page/33/) (partially superseded by more detailed records above).\n",
    "+ Boston weather records from NOAA.org &mdash; for example, the [Storm Events Database](https://www.ncdc.noaa.gov/stormevents/).\n",
    "\n",
    "\n",
    "\n",
    "## The Approach:\n",
    "\n",
    "Broadly speaking, I will...\n",
    "1. Load and clean the various datasets, and make sure they are easily interoperable with respect to times and locations.\n",
    "+ Use numerical and visual techniques to explore the inspections dataset and service request dataset, looking for patterns in geography and time. Also consider at length the phraseology of Yelp ratings, and the timing of weather events, in terms of their usefulness to predictions.\n",
    "+ Seek to apply supervised learning techniques to build an accurate model for predicting health code violations. Regression and decision trees are expected to play a large role here.\n",
    "+ Reflect on the relative importance of the various kinds of available information (service requests, Yelp reviews, weather patterns) in predicting food safety issues, and also consider what further data might be used to improve predictions.\n",
    "+ Explore (perhaps briefly) the possible application of unsupervised learning techniques to gain further insights.\n",
    "\n",
    "\n",
    "\n",
    "\n",
    "## The Deliverables:\n",
    "\n",
    "* Project code and documentation.\n",
    "* Paper with explanation of problem, approaches, findings, recommendations to City of Boston, and possible future directions of research.\n",
    "* Slide deck for presentation to City of Boston.\n",
    "\n",
    "\n",
    "\n"
   ]
  }
 ],
 "metadata": {
  "kernelspec": {
   "display_name": "Python 3",
   "language": "python",
   "name": "python3"
  },
  "language_info": {
   "codemirror_mode": {
    "name": "ipython",
    "version": 3
   },
   "file_extension": ".py",
   "mimetype": "text/x-python",
   "name": "python",
   "nbconvert_exporter": "python",
   "pygments_lexer": "ipython3",
   "version": "3.5.1"
  }
 },
 "nbformat": 4,
 "nbformat_minor": 0
}
