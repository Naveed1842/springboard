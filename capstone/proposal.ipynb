{
 "cells": [
  {
   "cell_type": "markdown",
   "metadata": {},
   "source": [
    "# Predicting Health Code Violations in Boston\n",
    "### Capstone Project Proposal\n",
    "Roy Wright  \n",
    "June 14, 2016  \n",
    "  \n",
    "\n",
    "## The Problem:\n",
    "\n",
    "We want to find restaurants that are likely to fail a health inspection &mdash; that is, we will estimate the probability that a health code violation would be found at a given food service establishment, if it were inspected right now. \n",
    "\n",
    "\n",
    "## The Client:\n",
    "\n",
    "The City of Boston, like many others, conducts health inspections of food service establishments in a largely random pattern of visits. With a model for predicting where, are also when, health code violations might be expected, the inspections can be carried out in a targeted way. This could make more efficient use of inspectors' time and, more importantly, increase the chances of detecting violations.\n",
    "\n",
    "\n",
    "## The Data:\n",
    "\n",
    "Listed roughly in order of importance:\n",
    "1. City of Boston records (2006 to present), available from [data.cityofboston.gov](https://data.cityofboston.gov/Health/Food-Establishment-Inspections/qndu-wx8w), indicating some details about the outcomes of past health inspections.\n",
    "+ City of Boston records of 311 service requests (2011 to present), available from [data.cityofboston.gov](https://data.cityofboston.gov/City-Services/311-Service-Requests/awu8-dc52), which include such details as rodent sightings and other \"unsanitary conditions.\"\n",
    "+ Yelp Academic Datasets (for Boston) from the 2015 \"Keeping it Fresh: Predict Restaurant Inspections\" contest hosted by [DrivenData.org](https://www.drivendata.org/competitions/5/page/17/). Available from [yelp.com](https://www.yelp.com/dataset_challenge/drivendata), giving customers' numerical ratings and written reviews.\n",
    "+ Other information on Boston's food businesses and health violations available from [DrivenData.org](https://www.drivendata.org/competitions/5/page/33/) (partially superseded by more detailed records above).\n",
    "+ Boston weather records from NOAA.org &mdash; for example, the [Storm Events Database](https://www.ncdc.noaa.gov/stormevents/).\n",
    "\n",
    "\n",
    "\n",
    "## The Approach:\n",
    "\n",
    "Broadly speaking, I will...\n",
    "1. Use the ```pandas``` package to load the datasets, inspect them for irregularities and missing data, and align the dataframes, making sure that events in each set can be suitably compared by location and time.\n",
    "+ Use visual techniques (including time-series plots and heatmaps) to explore the inspections dataset and service requests dataset, looking for patterns in time (such as periodic behavior) and in space (such as geographical clusters of health code violations and corresponding areas of frequent service requests). Use numerical tools (for example, measures of correlation) for deeper insights. Similarly, investigate how the phraseology of Yelp ratings and the timing of weather events might be useful in predicting health code issues.\n",
    "+ Build and evaluate at least three classes of model for predicting health code violations, drawing from supervised learning techniques such as logistic regression, decision trees, SVM's, naive Bayes, and/or neural networks.\n",
    "+ For the predictive models developed above, examine the relative weight of the various factors used  (service requests, Yelp reviews, weather patterns) and consider the effects of simplifying or \"pruning\" the models. Also explore (perhaps briefly) the possible application of unsupervised learning techniques to gain further insights.\n",
    "\n",
    "\n",
    "\n",
    "\n",
    "## The Deliverables:\n",
    "\n",
    "* Project code and documentation.\n",
    "* Paper with explanation of problem, approaches, findings, recommendations to City of Boston, and possible future directions of research.\n",
    "* Slide deck for presentation to City of Boston.\n",
    "\n",
    "\n",
    "\n"
   ]
  }
 ],
 "metadata": {
  "kernelspec": {
   "display_name": "Python 3",
   "language": "python",
   "name": "python3"
  },
  "language_info": {
   "codemirror_mode": {
    "name": "ipython",
    "version": 3
   },
   "file_extension": ".py",
   "mimetype": "text/x-python",
   "name": "python",
   "nbconvert_exporter": "python",
   "pygments_lexer": "ipython3",
   "version": "3.5.1"
  }
 },
 "nbformat": 4,
 "nbformat_minor": 0
}
