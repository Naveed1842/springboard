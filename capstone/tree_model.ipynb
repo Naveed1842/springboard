{
 "cells": [
  {
   "cell_type": "markdown",
   "metadata": {},
   "source": [
    "# Decision Tree Classifier\n",
    "### Importing data:"
   ]
  },
  {
   "cell_type": "code",
   "execution_count": 1,
   "metadata": {
    "collapsed": false
   },
   "outputs": [],
   "source": [
    "import pandas as pd\n",
    "from numpy import nan\n",
    "import numpy as np\n",
    "import scipy.stats as stats\n",
    "from datetime import datetime\n",
    "from datetime import timedelta\n",
    "import matplotlib.pyplot as plt\n",
    "%matplotlib inline"
   ]
  },
  {
   "cell_type": "code",
   "execution_count": 2,
   "metadata": {
    "collapsed": false
   },
   "outputs": [],
   "source": [
    "violations = pd.read_pickle('data/violations.pkl')"
   ]
  },
  {
   "cell_type": "code",
   "execution_count": 3,
   "metadata": {
    "collapsed": false
   },
   "outputs": [],
   "source": [
    "violations = violations[violations.delay > 21]\n",
    "X = violations.drop(['date','restaurant_id','*','**','***','name','reviews','rating','delay'],1)\n",
    "y = (violations['*'] + violations['**'] + violations['***'] > 0).values.astype(np.int)"
   ]
  },
  {
   "cell_type": "markdown",
   "metadata": {},
   "source": [
    "### Cross-validated hyperparameter tuning:"
   ]
  },
  {
   "cell_type": "code",
   "execution_count": 4,
   "metadata": {
    "collapsed": false
   },
   "outputs": [
    {
     "data": {
      "text/plain": [
       "{'max_depth': 3, 'max_features': 39, 'min_samples_leaf': 7}"
      ]
     },
     "execution_count": 4,
     "metadata": {},
     "output_type": "execute_result"
    }
   ],
   "source": [
    "from sklearn.cross_validation import train_test_split\n",
    "from sklearn.tree import DecisionTreeClassifier\n",
    "from sklearn.grid_search import GridSearchCV\n",
    "\n",
    "Xtrain, Xtest, ytrain, ytest = train_test_split(X, y, train_size=.8, stratify = y)\n",
    "gs = GridSearchCV(\n",
    "        estimator = DecisionTreeClassifier(),\n",
    "        param_grid = {\n",
    "            'min_samples_leaf' : np.arange(1, 10, 1),\n",
    "            'max_features' : np.arange(35, 47, 1),\n",
    "            'max_depth' : np.arange(1, 12, 1)\n",
    "        },\n",
    "        n_jobs = -1\n",
    ")\n",
    "gs.fit(Xtrain, ytrain)\n",
    "clf = gs.best_estimator_\n",
    "gs.best_params_"
   ]
  },
  {
   "cell_type": "markdown",
   "metadata": {},
   "source": [
    "### Evaluation:\n",
    "* Accuracies on training and test sets\n",
    "* ROC curve and its AUC\n",
    "* Precision-recall curve and its AUC\n",
    "* Learning curve"
   ]
  },
  {
   "cell_type": "code",
   "execution_count": 5,
   "metadata": {
    "collapsed": false
   },
   "outputs": [
    {
     "data": {
      "text/plain": [
       "(0.86027972027972033, 0.85626398210290833)"
      ]
     },
     "execution_count": 5,
     "metadata": {},
     "output_type": "execute_result"
    }
   ],
   "source": [
    "clf.score(Xtrain, ytrain), clf.score(Xtest, ytest)"
   ]
  },
  {
   "cell_type": "code",
   "execution_count": 6,
   "metadata": {
    "collapsed": false,
    "scrolled": false
   },
   "outputs": [
    {
     "data": {
      "image/png": "[encoded data removed]",
      "text/plain": [
       "<matplotlib.figure.Figure at 0x9267930>"
      ]
     },
     "metadata": {},
     "output_type": "display_data"
    },
    {
     "data": {
      "text/plain": [
       "0.84177360840372539"
      ]
     },
     "execution_count": 6,
     "metadata": {},
     "output_type": "execute_result"
    }
   ],
   "source": [
    "from sklearn.metrics import roc_curve\n",
    "from sklearn.metrics import auc\n",
    "plt.rcParams['figure.figsize'] = (4, 4)\n",
    "xroc, yroc, _ = roc_curve(ytest, clf.predict_proba(Xtest)[:,1])\n",
    "plt.plot(xroc, yroc)\n",
    "plt.xlabel('False positive rate')\n",
    "plt.ylabel('True positive rate')\n",
    "plt.show()\n",
    "auc(xroc,yroc)"
   ]
  },
  {
   "cell_type": "code",
   "execution_count": 7,
   "metadata": {
    "collapsed": false
   },
   "outputs": [
    {
     "data": {
      "image/png": "[encoded data removed]",
      "text/plain": [
       "<matplotlib.figure.Figure at 0x9fb5630>"
      ]
     },
     "metadata": {},
     "output_type": "display_data"
    },
    {
     "data": {
      "text/plain": [
       "0.8768551393046804"
      ]
     },
     "execution_count": 7,
     "metadata": {},
     "output_type": "execute_result"
    }
   ],
   "source": [
    "from sklearn.metrics import precision_recall_curve\n",
    "from sklearn.metrics import average_precision_score\n",
    "xprc, yprc, _ = precision_recall_curve(ytest, clf.predict_proba(Xtest)[:,1])\n",
    "plt.plot(xprc, yprc)\n",
    "plt.xlabel('Precision')\n",
    "plt.ylabel('Recall')\n",
    "plt.show()\n",
    "average_precision_score(ytest, clf.predict_proba(Xtest)[:,1])"
   ]
  },
  {
   "cell_type": "code",
   "execution_count": 8,
   "metadata": {
    "collapsed": false,
    "scrolled": false
   },
   "outputs": [
    {
     "data": {
      "image/png": "[encoded data removed]",
      "text/plain": [
       "<matplotlib.figure.Figure at 0xb26df10>"
      ]
     },
     "metadata": {},
     "output_type": "display_data"
    }
   ],
   "source": [
    "from sklearn.learning_curve import learning_curve\n",
    "train_size, train_score, test_score = learning_curve(\n",
    "    clf, \n",
    "    X, \n",
    "    y, \n",
    "    n_jobs = -1,\n",
    "    train_sizes = (.2, .4, .6, .8, 1.0)\n",
    ")\n",
    "plt.plot(\n",
    "    train_size, \n",
    "    train_score.mean(axis = 1), \n",
    "    label='training'\n",
    ")\n",
    "plt.plot(\n",
    "    train_size, \n",
    "    test_score.mean(axis = 1), \n",
    "    label='testing', c='red'\n",
    ")\n",
    "plt.legend(loc = 0)\n",
    "plt.ylim([0.5,1])\n",
    "plt.xlabel('Number of training examples')\n",
    "plt.ylabel('Scores')\n",
    "plt.show()"
   ]
  }
 ],
 "metadata": {
  "anaconda-cloud": {},
  "kernelspec": {
   "display_name": "Python 3",
   "language": "python",
   "name": "python3"
  },
  "language_info": {
   "codemirror_mode": {
    "name": "ipython",
    "version": 3
   },
   "file_extension": ".py",
   "mimetype": "text/x-python",
   "name": "python",
   "nbconvert_exporter": "python",
   "pygments_lexer": "ipython3",
   "version": "3.5.1"
  }
 },
 "nbformat": 4,
 "nbformat_minor": 0
}
