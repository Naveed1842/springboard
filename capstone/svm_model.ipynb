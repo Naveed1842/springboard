{
 "cells": [
  {
   "cell_type": "markdown",
   "metadata": {},
   "source": [
    "# SVM Classifier\n",
    "### Importing data:"
   ]
  },
  {
   "cell_type": "code",
   "execution_count": 1,
   "metadata": {
    "collapsed": false
   },
   "outputs": [],
   "source": [
    "import pandas as pd\n",
    "from numpy import nan\n",
    "import numpy as np\n",
    "import scipy.stats as stats\n",
    "from datetime import datetime\n",
    "from datetime import timedelta\n",
    "import matplotlib.pyplot as plt\n",
    "%matplotlib inline"
   ]
  },
  {
   "cell_type": "code",
   "execution_count": 2,
   "metadata": {
    "collapsed": false
   },
   "outputs": [],
   "source": [
    "violations = pd.read_pickle('data/violations.pkl')"
   ]
  },
  {
   "cell_type": "code",
   "execution_count": 3,
   "metadata": {
    "collapsed": false
   },
   "outputs": [],
   "source": [
    "violations['rating'] = violations.rating.fillna(5)\n",
    "violations = violations[violations.delay > 21]\n",
    "violations = violations.drop(['latitude','longitude','reviews','tips'], axis=1)"
   ]
  },
  {
   "cell_type": "markdown",
   "metadata": {},
   "source": [
    "### Cross-validated hyperparameter tuning:"
   ]
  },
  {
   "cell_type": "code",
   "execution_count": 4,
   "metadata": {
    "collapsed": false
   },
   "outputs": [],
   "source": [
    "from sklearn.cross_validation import train_test_split\n",
    "from sklearn.preprocessing import StandardScaler\n",
    "\n",
    "X = violations.iloc[:,6:52]\n",
    "y = (violations['*'] + violations['**'] + violations['***'] > 0).values.astype(np.int)\n",
    "\n",
    "Xtrain, Xtest, ytrain, ytest = train_test_split(X, y, train_size=.8, stratify = y)\n",
    "\n",
    "scaler = StandardScaler()\n",
    "Xtrain = scaler.fit_transform(Xtrain)"
   ]
  },
  {
   "cell_type": "code",
   "execution_count": 5,
   "metadata": {
    "collapsed": true
   },
   "outputs": [],
   "source": [
    "import warnings                         # See https://github.com/scikit-learn/scikit-learn/issues/6370 for explanation\n",
    "warnings.filterwarnings(\"ignore\", category = DeprecationWarning)"
   ]
  },
  {
   "cell_type": "code",
   "execution_count": 6,
   "metadata": {
    "collapsed": false
   },
   "outputs": [
    {
     "data": {
      "text/plain": [
       "{'C': 0.70000000000000007, 'gamma': 0.34000000000000008}"
      ]
     },
     "execution_count": 6,
     "metadata": {},
     "output_type": "execute_result"
    }
   ],
   "source": [
    "from sklearn.svm import SVC\n",
    "from sklearn.grid_search import GridSearchCV\n",
    "\n",
    "gs = GridSearchCV(\n",
    "        estimator = SVC(probability = True),\n",
    "        param_grid = {\n",
    "            'C' : np.arange(0.60, 0.82, 0.02),\n",
    "            'gamma' : np.arange(0.24, 0.38, 0.02)\n",
    "        },\n",
    "        n_jobs = -1\n",
    ")\n",
    "gs.fit(Xtrain, ytrain)\n",
    "clf = gs.best_estimator_\n",
    "gs.best_params_"
   ]
  },
  {
   "cell_type": "markdown",
   "metadata": {},
   "source": [
    "### Evaluation:\n",
    "* Accuracies on training and test sets\n",
    "* ROC curve and its AUC\n",
    "* Precision-recall curve and its AUC\n",
    "* Learning curve"
   ]
  },
  {
   "cell_type": "code",
   "execution_count": 7,
   "metadata": {
    "collapsed": false
   },
   "outputs": [
    {
     "data": {
      "text/plain": [
       "(0.88531468531468527, 0.86017897091722595)"
      ]
     },
     "execution_count": 7,
     "metadata": {},
     "output_type": "execute_result"
    }
   ],
   "source": [
    "clf.score(Xtrain, ytrain), clf.score(scaler.transform(Xtest), ytest)"
   ]
  },
  {
   "cell_type": "code",
   "execution_count": 8,
   "metadata": {
    "collapsed": false,
    "scrolled": false
   },
   "outputs": [
    {
     "data": {
      "image/png": "[encoded data removed]",
      "text/plain": [
       "<matplotlib.figure.Figure at 0xb1a00f0>"
      ]
     },
     "metadata": {},
     "output_type": "display_data"
    },
    {
     "data": {
      "text/plain": [
       "0.83522850335715837"
      ]
     },
     "execution_count": 8,
     "metadata": {},
     "output_type": "execute_result"
    }
   ],
   "source": [
    "from sklearn.metrics import roc_curve\n",
    "from sklearn.metrics import auc\n",
    "plt.rcParams['figure.figsize'] = (4, 4)\n",
    "xroc, yroc, _ = roc_curve(ytest, clf.predict_proba(scaler.transform(Xtest))[:,1])\n",
    "plt.plot(xroc, yroc)\n",
    "plt.xlabel('False positive rate')\n",
    "plt.ylabel('True positive rate')\n",
    "plt.show()\n",
    "auc(xroc,yroc)"
   ]
  },
  {
   "cell_type": "code",
   "execution_count": 9,
   "metadata": {
    "collapsed": false
   },
   "outputs": [
    {
     "data": {
      "image/png": "[encoded data removed]",
      "text/plain": [
       "<matplotlib.figure.Figure at 0x986d940>"
      ]
     },
     "metadata": {},
     "output_type": "display_data"
    },
    {
     "data": {
      "text/plain": [
       "0.8508995866660154"
      ]
     },
     "execution_count": 9,
     "metadata": {},
     "output_type": "execute_result"
    }
   ],
   "source": [
    "from sklearn.metrics import precision_recall_curve\n",
    "from sklearn.metrics import average_precision_score\n",
    "xprc, yprc, _ = precision_recall_curve(ytest, clf.predict_proba(scaler.transform(Xtest))[:,1])\n",
    "plt.plot(xprc, yprc)\n",
    "plt.xlabel('Precision')\n",
    "plt.ylabel('Recall')\n",
    "plt.show()\n",
    "average_precision_score(ytest, clf.predict_proba(scaler.transform(Xtest))[:,1])"
   ]
  },
  {
   "cell_type": "code",
   "execution_count": 10,
   "metadata": {
    "collapsed": false
   },
   "outputs": [
    {
     "data": {
      "image/png": "[encoded data removed]",
      "text/plain": [
       "<matplotlib.figure.Figure at 0x9276390>"
      ]
     },
     "metadata": {},
     "output_type": "display_data"
    }
   ],
   "source": [
    "from sklearn.learning_curve import learning_curve\n",
    "train_size, train_score, test_score = learning_curve(\n",
    "    clf, \n",
    "    scaler.transform(X), \n",
    "    y, \n",
    "    n_jobs = -1,\n",
    "    train_sizes = (.2, .4, .6, .8, 1.0)\n",
    ")\n",
    "plt.plot(\n",
    "    train_size, \n",
    "    train_score.mean(axis = 1), \n",
    "    label='training'\n",
    ")\n",
    "plt.plot(\n",
    "    train_size, \n",
    "    test_score.mean(axis = 1), \n",
    "    label='testing', c='red'\n",
    ")\n",
    "plt.legend(loc = 0)\n",
    "plt.ylim([0.5,1])\n",
    "plt.xlabel('Number of training examples')\n",
    "plt.ylabel('Scores')\n",
    "plt.show()"
   ]
  }
 ],
 "metadata": {
  "anaconda-cloud": {},
  "kernelspec": {
   "display_name": "Python [Root]",
   "language": "python",
   "name": "Python [Root]"
  },
  "language_info": {
   "codemirror_mode": {
    "name": "ipython",
    "version": 3
   },
   "file_extension": ".py",
   "mimetype": "text/x-python",
   "name": "python",
   "nbconvert_exporter": "python",
   "pygments_lexer": "ipython3",
   "version": "3.5.2"
  }
 },
 "nbformat": 4,
 "nbformat_minor": 0
}
