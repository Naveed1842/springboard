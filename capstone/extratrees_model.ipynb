{
 "cells": [
  {
   "cell_type": "markdown",
   "metadata": {},
   "source": [
    "# Extra-Trees Classifier\n",
    "### Importing data:"
   ]
  },
  {
   "cell_type": "code",
   "execution_count": 1,
   "metadata": {
    "collapsed": false
   },
   "outputs": [],
   "source": [
    "import pandas as pd\n",
    "from numpy import nan\n",
    "import numpy as np\n",
    "import scipy.stats as stats\n",
    "from datetime import datetime\n",
    "from datetime import timedelta\n",
    "import matplotlib.pyplot as plt\n",
    "%matplotlib inline"
   ]
  },
  {
   "cell_type": "code",
   "execution_count": 2,
   "metadata": {
    "collapsed": false
   },
   "outputs": [],
   "source": [
    "violations = pd.read_pickle('data/violations.pkl')"
   ]
  },
  {
   "cell_type": "code",
   "execution_count": 3,
   "metadata": {
    "collapsed": false
   },
   "outputs": [],
   "source": [
    "violations = violations[violations.delay > 21].sample(frac = 1)\n",
    "X = violations.drop([\n",
    "        'date', 'restaurant_id', '*', '**', '***', 'name', 'reviews', 'rating', 'delay'\n",
    "    ],1)\n",
    "y = (violations['*'] + violations['**'] + violations['***'] > 0).values.astype(np.int)"
   ]
  },
  {
   "cell_type": "markdown",
   "metadata": {},
   "source": [
    "### Cross-validated hyperparameter tuning:"
   ]
  },
  {
   "cell_type": "code",
   "execution_count": 4,
   "metadata": {
    "collapsed": false
   },
   "outputs": [
    {
     "data": {
      "text/plain": [
       "{'bootstrap': True, 'max_features': 7, 'min_samples_leaf': 4}"
      ]
     },
     "execution_count": 4,
     "metadata": {},
     "output_type": "execute_result"
    }
   ],
   "source": [
    "from sklearn.cross_validation import train_test_split\n",
    "from sklearn.ensemble import ExtraTreesClassifier\n",
    "from sklearn.grid_search import GridSearchCV\n",
    "\n",
    "Xtrain, Xtest, ytrain, ytest = train_test_split(X, y, train_size=.8, stratify = y)\n",
    "gs = GridSearchCV(\n",
    "        estimator = ExtraTreesClassifier(n_estimators = 500),\n",
    "        param_grid = {\n",
    "            'min_samples_leaf' : np.arange(1, 8, 1),\n",
    "            'max_features' : np.arange(4, 12, 1),\n",
    "            'bootstrap' : (True, False)\n",
    "        },\n",
    "        n_jobs = -1\n",
    ")\n",
    "gs.fit(Xtrain, ytrain)\n",
    "clf = gs.best_estimator_\n",
    "gs.best_params_"
   ]
  },
  {
   "cell_type": "markdown",
   "metadata": {},
   "source": [
    "### Evaluation:\n",
    "* Accuracies on training and test sets\n",
    "* ROC curve and its AUC\n",
    "* Precision-recall curve and its AUC\n",
    "* Learning curve"
   ]
  },
  {
   "cell_type": "code",
   "execution_count": 5,
   "metadata": {
    "collapsed": false
   },
   "outputs": [
    {
     "data": {
      "text/plain": [
       "(0.86909090909090914, 0.85906040268456374)"
      ]
     },
     "execution_count": 5,
     "metadata": {},
     "output_type": "execute_result"
    }
   ],
   "source": [
    "clf.score(Xtrain, ytrain), clf.score(Xtest, ytest)"
   ]
  },
  {
   "cell_type": "code",
   "execution_count": 6,
   "metadata": {
    "collapsed": false,
    "scrolled": false
   },
   "outputs": [
    {
     "data": {
      "image/png": "[encoded data removed]",
      "text/plain": [
       "<matplotlib.figure.Figure at 0xb6e1898>"
      ]
     },
     "metadata": {},
     "output_type": "display_data"
    },
    {
     "data": {
      "text/plain": [
       "0.8703426196664501"
      ]
     },
     "execution_count": 6,
     "metadata": {},
     "output_type": "execute_result"
    }
   ],
   "source": [
    "from sklearn.metrics import roc_curve\n",
    "from sklearn.metrics import auc\n",
    "plt.rcParams['figure.figsize'] = (4, 4)\n",
    "xroc, yroc, _ = roc_curve(ytest, clf.predict_proba(Xtest)[:,1])\n",
    "plt.plot(xroc, yroc)\n",
    "plt.xlabel('False positive rate')\n",
    "plt.ylabel('True positive rate')\n",
    "plt.show()\n",
    "auc(xroc,yroc)"
   ]
  },
  {
   "cell_type": "code",
   "execution_count": 7,
   "metadata": {
    "collapsed": false
   },
   "outputs": [
    {
     "data": {
      "image/png": "[encoded data removed]",
      "text/plain": [
       "<matplotlib.figure.Figure at 0xb7c2f98>"
      ]
     },
     "metadata": {},
     "output_type": "display_data"
    },
    {
     "data": {
      "text/plain": [
       "0.88283998769839456"
      ]
     },
     "execution_count": 7,
     "metadata": {},
     "output_type": "execute_result"
    }
   ],
   "source": [
    "from sklearn.metrics import precision_recall_curve\n",
    "from sklearn.metrics import average_precision_score\n",
    "xprc, yprc, _ = precision_recall_curve(ytest, clf.predict_proba(Xtest)[:,1])\n",
    "plt.plot(xprc, yprc)\n",
    "plt.xlabel('Precision')\n",
    "plt.ylabel('Recall')\n",
    "plt.show()\n",
    "average_precision_score(ytest, clf.predict_proba(Xtest)[:,1])"
   ]
  },
  {
   "cell_type": "code",
   "execution_count": 8,
   "metadata": {
    "collapsed": false,
    "scrolled": true
   },
   "outputs": [
    {
     "data": {
      "image/png": "[encoded data removed]",
      "text/plain": [
       "<matplotlib.figure.Figure at 0xb3dcf60>"
      ]
     },
     "metadata": {},
     "output_type": "display_data"
    }
   ],
   "source": [
    "from sklearn.learning_curve import learning_curve\n",
    "train_size, train_score, test_score = learning_curve(\n",
    "    clf, \n",
    "    X, \n",
    "    y, \n",
    "    n_jobs = -1,\n",
    "    train_sizes = np.hstack((np.arange(200, 6000, 200), 5958))\n",
    ")\n",
    "plt.plot(\n",
    "    train_size, \n",
    "    train_score.mean(axis = 1), \n",
    "    label='training'\n",
    ")\n",
    "plt.plot(\n",
    "    train_size, \n",
    "    test_score.mean(axis = 1), \n",
    "    label='testing', c='red'\n",
    ")\n",
    "plt.legend(loc = 0)\n",
    "plt.ylim([0.5,1])\n",
    "plt.xlabel('Number of training examples')\n",
    "plt.ylabel('Scores')\n",
    "plt.show()"
   ]
  },
  {
   "cell_type": "markdown",
   "metadata": {},
   "source": [
    "### List of feature importances, and a new classifier using only the most important 10 features:"
   ]
  },
  {
   "cell_type": "code",
   "execution_count": 9,
   "metadata": {
    "collapsed": false
   },
   "outputs": [
    {
     "data": {
      "text/html": [
       "<div>\n",
       "<table border=\"1\" class=\"dataframe\">\n",
       "  <thead>\n",
       "    <tr style=\"text-align: right;\">\n",
       "      <th></th>\n",
       "      <th>name</th>\n",
       "      <th>importance</th>\n",
       "    </tr>\n",
       "  </thead>\n",
       "  <tbody>\n",
       "    <tr>\n",
       "      <th>35</th>\n",
       "      <td>Weights and Measures</td>\n",
       "      <td>0.060941</td>\n",
       "    </tr>\n",
       "    <tr>\n",
       "      <th>11</th>\n",
       "      <td>Trees</td>\n",
       "      <td>0.051177</td>\n",
       "    </tr>\n",
       "    <tr>\n",
       "      <th>20</th>\n",
       "      <td>Health</td>\n",
       "      <td>0.049859</td>\n",
       "    </tr>\n",
       "    <tr>\n",
       "      <th>23</th>\n",
       "      <td>Traffic Management &amp; Engineering</td>\n",
       "      <td>0.049071</td>\n",
       "    </tr>\n",
       "    <tr>\n",
       "      <th>14</th>\n",
       "      <td>Environmental Services</td>\n",
       "      <td>0.044516</td>\n",
       "    </tr>\n",
       "    <tr>\n",
       "      <th>3</th>\n",
       "      <td>Highway Maintenance</td>\n",
       "      <td>0.043430</td>\n",
       "    </tr>\n",
       "    <tr>\n",
       "      <th>30</th>\n",
       "      <td>Sidewalk Cover / Manhole</td>\n",
       "      <td>0.036716</td>\n",
       "    </tr>\n",
       "    <tr>\n",
       "      <th>29</th>\n",
       "      <td>Programs</td>\n",
       "      <td>0.034285</td>\n",
       "    </tr>\n",
       "    <tr>\n",
       "      <th>10</th>\n",
       "      <td>Building</td>\n",
       "      <td>0.032450</td>\n",
       "    </tr>\n",
       "    <tr>\n",
       "      <th>12</th>\n",
       "      <td>Graffiti</td>\n",
       "      <td>0.031955</td>\n",
       "    </tr>\n",
       "    <tr>\n",
       "      <th>38</th>\n",
       "      <td>Water Issues</td>\n",
       "      <td>0.031940</td>\n",
       "    </tr>\n",
       "    <tr>\n",
       "      <th>8</th>\n",
       "      <td>Recycling</td>\n",
       "      <td>0.030543</td>\n",
       "    </tr>\n",
       "    <tr>\n",
       "      <th>2</th>\n",
       "      <td>Sanitation</td>\n",
       "      <td>0.025265</td>\n",
       "    </tr>\n",
       "    <tr>\n",
       "      <th>19</th>\n",
       "      <td>Notification</td>\n",
       "      <td>0.024187</td>\n",
       "    </tr>\n",
       "    <tr>\n",
       "      <th>5</th>\n",
       "      <td>Street Lights</td>\n",
       "      <td>0.023365</td>\n",
       "    </tr>\n",
       "    <tr>\n",
       "      <th>34</th>\n",
       "      <td>MBTA</td>\n",
       "      <td>0.023299</td>\n",
       "    </tr>\n",
       "    <tr>\n",
       "      <th>22</th>\n",
       "      <td>Operations</td>\n",
       "      <td>0.023112</td>\n",
       "    </tr>\n",
       "    <tr>\n",
       "      <th>18</th>\n",
       "      <td>Animal Issues</td>\n",
       "      <td>0.022872</td>\n",
       "    </tr>\n",
       "    <tr>\n",
       "      <th>27</th>\n",
       "      <td>Abandoned Bicycle</td>\n",
       "      <td>0.021447</td>\n",
       "    </tr>\n",
       "    <tr>\n",
       "      <th>4</th>\n",
       "      <td>Street Cleaning</td>\n",
       "      <td>0.021416</td>\n",
       "    </tr>\n",
       "    <tr>\n",
       "      <th>13</th>\n",
       "      <td>Employee &amp; General Comments</td>\n",
       "      <td>0.020155</td>\n",
       "    </tr>\n",
       "    <tr>\n",
       "      <th>15</th>\n",
       "      <td>Park Maintenance &amp; Safety</td>\n",
       "      <td>0.019748</td>\n",
       "    </tr>\n",
       "    <tr>\n",
       "      <th>42</th>\n",
       "      <td>Pothole</td>\n",
       "      <td>0.018121</td>\n",
       "    </tr>\n",
       "    <tr>\n",
       "      <th>9</th>\n",
       "      <td>Enforcement &amp; Abandoned Vehicles</td>\n",
       "      <td>0.017630</td>\n",
       "    </tr>\n",
       "    <tr>\n",
       "      <th>40</th>\n",
       "      <td>Volunteer &amp; Corporate Groups</td>\n",
       "      <td>0.017349</td>\n",
       "    </tr>\n",
       "    <tr>\n",
       "      <th>7</th>\n",
       "      <td>Housing</td>\n",
       "      <td>0.016716</td>\n",
       "    </tr>\n",
       "    <tr>\n",
       "      <th>6</th>\n",
       "      <td>Signs &amp; Signals</td>\n",
       "      <td>0.016632</td>\n",
       "    </tr>\n",
       "    <tr>\n",
       "      <th>41</th>\n",
       "      <td>Generic Noise Disturbance</td>\n",
       "      <td>0.016536</td>\n",
       "    </tr>\n",
       "    <tr>\n",
       "      <th>37</th>\n",
       "      <td>Noise Disturbance</td>\n",
       "      <td>0.015638</td>\n",
       "    </tr>\n",
       "    <tr>\n",
       "      <th>39</th>\n",
       "      <td>Alert Boston</td>\n",
       "      <td>0.014137</td>\n",
       "    </tr>\n",
       "    <tr>\n",
       "      <th>0</th>\n",
       "      <td>latitude</td>\n",
       "      <td>0.014086</td>\n",
       "    </tr>\n",
       "    <tr>\n",
       "      <th>1</th>\n",
       "      <td>longitude</td>\n",
       "      <td>0.013982</td>\n",
       "    </tr>\n",
       "    <tr>\n",
       "      <th>17</th>\n",
       "      <td>Administrative &amp; General Requests</td>\n",
       "      <td>0.013393</td>\n",
       "    </tr>\n",
       "    <tr>\n",
       "      <th>31</th>\n",
       "      <td>Fire Hydrant</td>\n",
       "      <td>0.012974</td>\n",
       "    </tr>\n",
       "    <tr>\n",
       "      <th>16</th>\n",
       "      <td>Code Enforcement</td>\n",
       "      <td>0.012737</td>\n",
       "    </tr>\n",
       "    <tr>\n",
       "      <th>26</th>\n",
       "      <td>Catchbasin</td>\n",
       "      <td>0.012063</td>\n",
       "    </tr>\n",
       "    <tr>\n",
       "      <th>24</th>\n",
       "      <td>Survey</td>\n",
       "      <td>0.010321</td>\n",
       "    </tr>\n",
       "    <tr>\n",
       "      <th>46</th>\n",
       "      <td>Office of The Parking Clerk</td>\n",
       "      <td>0.010092</td>\n",
       "    </tr>\n",
       "    <tr>\n",
       "      <th>44</th>\n",
       "      <td>Parking Complaints</td>\n",
       "      <td>0.010088</td>\n",
       "    </tr>\n",
       "    <tr>\n",
       "      <th>25</th>\n",
       "      <td>Disability</td>\n",
       "      <td>0.008997</td>\n",
       "    </tr>\n",
       "    <tr>\n",
       "      <th>45</th>\n",
       "      <td>Cemetery</td>\n",
       "      <td>0.008455</td>\n",
       "    </tr>\n",
       "    <tr>\n",
       "      <th>21</th>\n",
       "      <td>Call Inquiry</td>\n",
       "      <td>0.005570</td>\n",
       "    </tr>\n",
       "    <tr>\n",
       "      <th>36</th>\n",
       "      <td>Investigations and Enforcement</td>\n",
       "      <td>0.004784</td>\n",
       "    </tr>\n",
       "    <tr>\n",
       "      <th>32</th>\n",
       "      <td>Fire Department</td>\n",
       "      <td>0.003355</td>\n",
       "    </tr>\n",
       "    <tr>\n",
       "      <th>33</th>\n",
       "      <td>General Request</td>\n",
       "      <td>0.002414</td>\n",
       "    </tr>\n",
       "    <tr>\n",
       "      <th>43</th>\n",
       "      <td>Boston Bikes</td>\n",
       "      <td>0.001772</td>\n",
       "    </tr>\n",
       "    <tr>\n",
       "      <th>28</th>\n",
       "      <td>Needle Program</td>\n",
       "      <td>0.000410</td>\n",
       "    </tr>\n",
       "  </tbody>\n",
       "</table>\n",
       "</div>"
      ],
      "text/plain": [
       "                                 name  importance\n",
       "35               Weights and Measures    0.060941\n",
       "11                              Trees    0.051177\n",
       "20                             Health    0.049859\n",
       "23   Traffic Management & Engineering    0.049071\n",
       "14             Environmental Services    0.044516\n",
       "3                 Highway Maintenance    0.043430\n",
       "30           Sidewalk Cover / Manhole    0.036716\n",
       "29                           Programs    0.034285\n",
       "10                           Building    0.032450\n",
       "12                           Graffiti    0.031955\n",
       "38                       Water Issues    0.031940\n",
       "8                           Recycling    0.030543\n",
       "2                          Sanitation    0.025265\n",
       "19                       Notification    0.024187\n",
       "5                       Street Lights    0.023365\n",
       "34                               MBTA    0.023299\n",
       "22                         Operations    0.023112\n",
       "18                      Animal Issues    0.022872\n",
       "27                  Abandoned Bicycle    0.021447\n",
       "4                     Street Cleaning    0.021416\n",
       "13        Employee & General Comments    0.020155\n",
       "15          Park Maintenance & Safety    0.019748\n",
       "42                            Pothole    0.018121\n",
       "9    Enforcement & Abandoned Vehicles    0.017630\n",
       "40       Volunteer & Corporate Groups    0.017349\n",
       "7                             Housing    0.016716\n",
       "6                     Signs & Signals    0.016632\n",
       "41          Generic Noise Disturbance    0.016536\n",
       "37                  Noise Disturbance    0.015638\n",
       "39                       Alert Boston    0.014137\n",
       "0                            latitude    0.014086\n",
       "1                           longitude    0.013982\n",
       "17  Administrative & General Requests    0.013393\n",
       "31                       Fire Hydrant    0.012974\n",
       "16                   Code Enforcement    0.012737\n",
       "26                         Catchbasin    0.012063\n",
       "24                             Survey    0.010321\n",
       "46        Office of The Parking Clerk    0.010092\n",
       "44                 Parking Complaints    0.010088\n",
       "25                         Disability    0.008997\n",
       "45                           Cemetery    0.008455\n",
       "21                       Call Inquiry    0.005570\n",
       "36     Investigations and Enforcement    0.004784\n",
       "32                    Fire Department    0.003355\n",
       "33                    General Request    0.002414\n",
       "43                       Boston Bikes    0.001772\n",
       "28                     Needle Program    0.000410"
      ]
     },
     "execution_count": 9,
     "metadata": {},
     "output_type": "execute_result"
    }
   ],
   "source": [
    "featurelist = pd.DataFrame()\n",
    "featurelist['name'] = X.columns\n",
    "featurelist['importance'] = clf.feature_importances_\n",
    "featurelist.sort_values('importance', ascending = False)"
   ]
  },
  {
   "cell_type": "code",
   "execution_count": 10,
   "metadata": {
    "collapsed": false
   },
   "outputs": [
    {
     "data": {
      "text/plain": [
       "{'bootstrap': True, 'max_features': 6, 'min_samples_leaf': 3}"
      ]
     },
     "execution_count": 10,
     "metadata": {},
     "output_type": "execute_result"
    }
   ],
   "source": [
    "Xtrain, Xtest, ytrain, ytest = train_test_split(\n",
    "    X[featurelist.sort_values('importance', ascending = False).head(10).name], \n",
    "    y, train_size=.8, stratify = y\n",
    ")\n",
    "\n",
    "gs = GridSearchCV(\n",
    "        estimator = ExtraTreesClassifier(n_estimators = 500),\n",
    "        param_grid = {\n",
    "            'min_samples_leaf' : np.arange(1, 7, 1),\n",
    "            'max_features' : np.arange(2, 7, 1),\n",
    "            'bootstrap' : (True, False)\n",
    "        },\n",
    "        n_jobs = -1\n",
    ")\n",
    "gs.fit(Xtrain, ytrain)\n",
    "clf = gs.best_estimator_\n",
    "gs.best_params_"
   ]
  },
  {
   "cell_type": "code",
   "execution_count": 11,
   "metadata": {
    "collapsed": false
   },
   "outputs": [
    {
     "data": {
      "text/plain": [
       "(0.88405594405594401, 0.85011185682326618)"
      ]
     },
     "execution_count": 11,
     "metadata": {},
     "output_type": "execute_result"
    }
   ],
   "source": [
    "clf.score(Xtrain, ytrain), clf.score(Xtest, ytest)"
   ]
  }
 ],
 "metadata": {
  "anaconda-cloud": {},
  "kernelspec": {
   "display_name": "Python [Root]",
   "language": "python",
   "name": "Python [Root]"
  },
  "language_info": {
   "codemirror_mode": {
    "name": "ipython",
    "version": 3
   },
   "file_extension": ".py",
   "mimetype": "text/x-python",
   "name": "python",
   "nbconvert_exporter": "python",
   "pygments_lexer": "ipython3",
   "version": "3.5.2"
  }
 },
 "nbformat": 4,
 "nbformat_minor": 0
}
