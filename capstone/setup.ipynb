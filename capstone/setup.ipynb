{
 "cells": [
  {
   "cell_type": "markdown",
   "metadata": {},
   "source": [
    "# Data Preparation"
   ]
  },
  {
   "cell_type": "code",
   "execution_count": 1,
   "metadata": {
    "collapsed": false
   },
   "outputs": [],
   "source": [
    "import pandas as pd\n",
    "from numpy import nan\n",
    "import numpy as np\n",
    "import scipy.stats as stats\n",
    "from datetime import datetime\n",
    "from datetime import timedelta\n",
    "import matplotlib.pyplot as plt\n",
    "%matplotlib inline"
   ]
  },
  {
   "cell_type": "code",
   "execution_count": 2,
   "metadata": {
    "collapsed": false,
    "scrolled": true
   },
   "outputs": [],
   "source": [
    "violations = pd.read_csv(\n",
    "    'data/AllViolations.csv', \n",
    "    parse_dates = ['date'], \n",
    "    infer_datetime_format = True,\n",
    "    index_col = 0\n",
    ")"
   ]
  },
  {
   "cell_type": "code",
   "execution_count": 3,
   "metadata": {
    "collapsed": false,
    "scrolled": true
   },
   "outputs": [],
   "source": [
    "import json\n",
    "from pandas.io.json import json_normalize\n",
    "\n",
    "with open('data/yelp_academic_dataset_business.json', 'r') as f:\n",
    "    data = f.readlines()\n",
    "data = map(lambda x: x.rstrip(), data)\n",
    "data_json_str = '[' + (',').join(data) + ']'\n",
    "\n",
    "business = pd.read_json(data_json_str)\n",
    "business = business[[\n",
    "    'name',\n",
    "    'full_address',\n",
    "    'city',\n",
    "    'business_id',\n",
    "    'review_count', \n",
    "    'stars',\n",
    "    'latitude',\n",
    "    'longitude'\n",
    "]]\n",
    "business.columns = [\n",
    "    'name',     \n",
    "    'address',\n",
    "    'city',\n",
    "    'yelp_id',\n",
    "    'reviews',\n",
    "    'rating',\n",
    "    'latitude',\n",
    "    'longitude'\n",
    "]\n",
    "\n",
    "%reset_selective -f data_json_str\n",
    "%reset_selective -f data"
   ]
  },
  {
   "cell_type": "code",
   "execution_count": 4,
   "metadata": {
    "collapsed": false
   },
   "outputs": [],
   "source": [
    "idtable = pd.read_csv(\n",
    "    'data/restaurant_ids_to_yelp_ids.csv'\n",
    ")\n",
    "idtable = pd.concat([\n",
    "        idtable[['restaurant_id','yelp_id_0']].rename(columns = {'yelp_id_0':'yelp_id'}),\n",
    "        idtable[idtable.yelp_id_1.notnull()][['restaurant_id','yelp_id_1']].rename(columns = {'yelp_id_1':'yelp_id'}),\n",
    "        idtable[idtable.yelp_id_2.notnull()][['restaurant_id','yelp_id_2']].rename(columns = {'yelp_id_2':'yelp_id'}),\n",
    "        idtable[idtable.yelp_id_3.notnull()][['restaurant_id','yelp_id_3']].rename(columns = {'yelp_id_3':'yelp_id'})\n",
    "], ignore_index = True)"
   ]
  },
  {
   "cell_type": "code",
   "execution_count": 5,
   "metadata": {
    "collapsed": false
   },
   "outputs": [],
   "source": [
    "violations = violations.merge(\n",
    "    idtable, \n",
    "    on = 'restaurant_id'\n",
    ").merge(\n",
    "    business, \n",
    "    on = 'yelp_id'\n",
    ").drop(['yelp_id', 'address', 'city'], 1)\n",
    "violations = violations[violations.date >= '2011-08-01']"
   ]
  },
  {
   "cell_type": "code",
   "execution_count": 6,
   "metadata": {
    "collapsed": false,
    "scrolled": true
   },
   "outputs": [],
   "source": [
    "services = pd.read_csv(\n",
    "    'data/311__Service_Requests.csv', \n",
    "    usecols = [\n",
    "       'OPEN_DT', 'CLOSED_DT', 'CASE_STATUS', 'CLOSURE_REASON', 'CASE_TITLE', 'SUBJECT', 'REASON',\n",
    "       'TYPE', 'LATITUDE', 'LONGITUDE'\n",
    "    ],\n",
    "    parse_dates=['OPEN_DT', 'CLOSED_DT'], \n",
    "    infer_datetime_format = True\n",
    ")\n",
    "services.columns = [\n",
    "    'open',         # date the complaint was registered\n",
    "    'closed',       # date the complaint was resolved\n",
    "    'status',       # open or closed\n",
    "    'closure',      # details of how the complaint was closed (NaN if open)\n",
    "    'title',        # description of the issue\n",
    "    'subject',      # category of the issue (e.g. public works, civil rights, animal control, etc.)\n",
    "    'reason',       # more specific category (often very similar to the \"title\")\n",
    "    'type',         # usually identical to the \"title\" \n",
    "    'latitude',      \n",
    "    'longitude'      \n",
    "]\n",
    "services = services.sort_values(['open', 'reason'])"
   ]
  },
  {
   "cell_type": "code",
   "execution_count": 7,
   "metadata": {
    "collapsed": false,
    "scrolled": true
   },
   "outputs": [],
   "source": [
    "reason = services.reason.value_counts().head(45).reset_index()['index']"
   ]
  },
  {
   "cell_type": "code",
   "execution_count": 8,
   "metadata": {
    "collapsed": true
   },
   "outputs": [],
   "source": [
    "business.to_pickle('data/business.pkl')\n",
    "idtable.to_pickle('data/idtable.pkl')\n",
    "services.to_pickle('data/services.pkl')\n",
    "reason.to_pickle('data/reason.pkl')"
   ]
  },
  {
   "cell_type": "code",
   "execution_count": 9,
   "metadata": {
    "collapsed": false
   },
   "outputs": [],
   "source": [
    "pd.options.mode.chained_assignment = None\n",
    "for j in range(45):\n",
    "    violations[reason[j]] = nan\n",
    "\n",
    "violations['delay'] = nan\n",
    "    \n",
    "for row in range(len(violations)):\n",
    "    c = (violations.latitude.iloc[row], violations.longitude.iloc[row])\n",
    "    ri = violations.restaurant_id.iloc[row]\n",
    "    t = violations.date.iloc[row]\n",
    "    tlast = violations[(violations.date <= t - timedelta(days = 1)) & (violations.restaurant_id == ri)].date.max()\n",
    "    violations['delay'].iloc[row] = t - tlast\n",
    "    s = services[\n",
    "            (services.open < t - timedelta(days = 5)) &\n",
    "            (services.open > t - timedelta(days = 15)) &\n",
    "            ((services.latitude - c[0])**2 + (5/7*(services.longitude - c[1]))**2 < 0.0025)\n",
    "    ]\n",
    "    violations.iloc[row,10:55] = s.groupby('reason').count().iloc[:,0][reason].fillna(0).values\n",
    "        \n",
    "violations['delay'] = (violations.delay) / (timedelta(days=1))\n",
    "violations['delay'] = violations.delay.astype(float)"
   ]
  },
  {
   "cell_type": "code",
   "execution_count": 10,
   "metadata": {
    "collapsed": false
   },
   "outputs": [],
   "source": [
    "violations.to_pickle('data/violations.pkl')"
   ]
  }
 ],
 "metadata": {
  "anaconda-cloud": {},
  "kernelspec": {
   "display_name": "Python 3",
   "language": "python",
   "name": "python3"
  },
  "language_info": {
   "codemirror_mode": {
    "name": "ipython",
    "version": 3
   },
   "file_extension": ".py",
   "mimetype": "text/x-python",
   "name": "python",
   "nbconvert_exporter": "python",
   "pygments_lexer": "ipython3",
   "version": "3.5.1"
  }
 },
 "nbformat": 4,
 "nbformat_minor": 0
}
