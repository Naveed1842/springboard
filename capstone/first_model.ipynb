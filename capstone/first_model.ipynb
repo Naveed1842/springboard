{
 "cells": [
  {
   "cell_type": "markdown",
   "metadata": {
    "collapsed": false
   },
   "source": [
    "# Loading and Aligning the Datasets\n",
    "## There have been no significant changes in the following code:"
   ]
  },
  {
   "cell_type": "code",
   "execution_count": 2,
   "metadata": {
    "collapsed": false
   },
   "outputs": [],
   "source": [
    "import pandas as pd\n",
    "from numpy import nan\n",
    "import numpy as np\n",
    "import scipy.stats as stats\n",
    "from datetime import datetime\n",
    "from datetime import timedelta\n",
    "import matplotlib.pyplot as plt\n",
    "%matplotlib inline"
   ]
  },
  {
   "cell_type": "code",
   "execution_count": 3,
   "metadata": {
    "collapsed": false,
    "scrolled": true
   },
   "outputs": [],
   "source": [
    "violations = pd.read_csv(\n",
    "    'data/AllViolations.csv', \n",
    "    parse_dates = ['date'], \n",
    "    infer_datetime_format = True,\n",
    "    index_col = 0\n",
    ")"
   ]
  },
  {
   "cell_type": "code",
   "execution_count": 4,
   "metadata": {
    "collapsed": false,
    "scrolled": true
   },
   "outputs": [],
   "source": [
    "import json\n",
    "from pandas.io.json import json_normalize\n",
    "\n",
    "with open('data/yelp_academic_dataset_business.json', 'r') as f:\n",
    "    data = f.readlines()\n",
    "data = map(lambda x: x.rstrip(), data)\n",
    "data_json_str = '[' + (',').join(data) + ']'\n",
    "\n",
    "business = pd.read_json(data_json_str)\n",
    "business = business[[\n",
    "    'name',\n",
    "    'full_address',\n",
    "    'city',\n",
    "    'business_id',\n",
    "    'review_count', \n",
    "    'stars',\n",
    "    'latitude',\n",
    "    'longitude'\n",
    "]]\n",
    "business.columns = [\n",
    "    'name',     \n",
    "    'address',\n",
    "    'city',\n",
    "    'yelp_id',\n",
    "    'reviews',\n",
    "    'rating',\n",
    "    'latitude',\n",
    "    'longitude'\n",
    "]\n",
    "\n",
    "%reset_selective -f data_json_str\n",
    "%reset_selective -f data"
   ]
  },
  {
   "cell_type": "code",
   "execution_count": 5,
   "metadata": {
    "collapsed": false
   },
   "outputs": [],
   "source": [
    "idtable = pd.read_csv(\n",
    "    'data/restaurant_ids_to_yelp_ids.csv'\n",
    ")\n",
    "idtable = pd.concat([\n",
    "        idtable[['restaurant_id','yelp_id_0']].rename(columns = {'yelp_id_0':'yelp_id'}),\n",
    "        idtable[idtable.yelp_id_1.notnull()][['restaurant_id','yelp_id_1']].rename(columns = {'yelp_id_1':'yelp_id'}),\n",
    "        idtable[idtable.yelp_id_2.notnull()][['restaurant_id','yelp_id_2']].rename(columns = {'yelp_id_2':'yelp_id'}),\n",
    "        idtable[idtable.yelp_id_3.notnull()][['restaurant_id','yelp_id_3']].rename(columns = {'yelp_id_3':'yelp_id'})\n",
    "], ignore_index = True)"
   ]
  },
  {
   "cell_type": "code",
   "execution_count": null,
   "metadata": {
    "collapsed": false
   },
   "outputs": [],
   "source": [
    "violations = violations.merge(\n",
    "    idtable, \n",
    "    on = 'restaurant_id'\n",
    ").merge(\n",
    "    business, \n",
    "    on = 'yelp_id'\n",
    ").drop(['yelp_id', 'address', 'city'], 1)\n",
    "violations = violations[violations.date >= '2011-08-01'].sort_values('date')"
   ]
  },
  {
   "cell_type": "code",
   "execution_count": null,
   "metadata": {
    "collapsed": false,
    "scrolled": true
   },
   "outputs": [],
   "source": [
    "services = pd.read_csv(\n",
    "    'data/311__Service_Requests.csv', \n",
    "    usecols = [\n",
    "       'OPEN_DT', 'CLOSED_DT', 'CASE_STATUS', 'CLOSURE_REASON', 'CASE_TITLE', 'SUBJECT', 'REASON',\n",
    "       'TYPE', 'LATITUDE', 'LONGITUDE'\n",
    "    ],\n",
    "    parse_dates=['OPEN_DT', 'CLOSED_DT'], \n",
    "    infer_datetime_format = True\n",
    ")\n",
    "services.columns = [\n",
    "    'open',         # date the complaint was registered\n",
    "    'closed',       # date the complaint was resolved\n",
    "    'status',       # open or closed\n",
    "    'closure',      # details of how the complaint was closed (NaN if open)\n",
    "    'title',        # description of the issue\n",
    "    'subject',      # category of the issue (e.g. public works, civil rights, animal control, etc.)\n",
    "    'reason',       # more specific category (often very similar to the \"title\")\n",
    "    'type',         # usually identical to the \"title\" \n",
    "    'latitude',      \n",
    "    'longitude'      \n",
    "]\n",
    "services = services.sort_values(['open', 'reason'])"
   ]
  },
  {
   "cell_type": "code",
   "execution_count": 8,
   "metadata": {
    "collapsed": false,
    "scrolled": true
   },
   "outputs": [],
   "source": [
    "reason = services.reason.value_counts().head(45).reset_index()['index']"
   ]
  },
  {
   "cell_type": "code",
   "execution_count": 9,
   "metadata": {
    "collapsed": true
   },
   "outputs": [],
   "source": [
    "violations.to_pickle('data/violations.pkl')\n",
    "business.to_pickle('data/business.pkl')\n",
    "idtable.to_pickle('data/idtable.pkl')\n",
    "services.to_pickle('data/services.pkl')\n",
    "reason.to_pickle('data/reason.pkl')"
   ]
  },
  {
   "cell_type": "code",
   "execution_count": null,
   "metadata": {
    "collapsed": false
   },
   "outputs": [],
   "source": [
    "pd.options.mode.chained_assignment = None\n",
    "for j in range(45):\n",
    "    violations[reason[j]] = nan\n",
    "\n",
    "violations['delay'] = nan\n",
    "    \n",
    "for row in range(len(violations)):\n",
    "    c = (violations.latitude.iloc[row], violations.longitude.iloc[row])\n",
    "    ri = violations.restaurant_id.iloc[row]\n",
    "    t = violations.date.iloc[row]\n",
    "    tlast = violations[(violations.date <= t - timedelta(days = 1)) & (violations.restaurant_id == ri)].date.max()\n",
    "    violations['delay'].iloc[row] = t - tlast\n",
    "    s = services[\n",
    "            (services.open < t - timedelta(days = 5)) &\n",
    "            (services.open > t - timedelta(days = 15)) &\n",
    "            ((services.latitude - c[0])**2 + (services.longitude - c[1])**2 < .0025)\n",
    "    ]\n",
    "    violations.iloc[row,10:55] = s.groupby('reason').count().iloc[:,0][reason].fillna(0).values\n",
    "        \n",
    "violations['delay'] = (violations.delay) / (timedelta(days=1))\n",
    "violations['delay'] = violations.delay.astype(float)"
   ]
  },
  {
   "cell_type": "code",
   "execution_count": 11,
   "metadata": {
    "collapsed": true
   },
   "outputs": [],
   "source": [
    "violations.to_pickle('data/violations.pkl')"
   ]
  },
  {
   "cell_type": "code",
   "execution_count": 12,
   "metadata": {
    "collapsed": false
   },
   "outputs": [],
   "source": [
    "%reset_selective -f business\n",
    "%reset_selective -f services"
   ]
  },
  {
   "cell_type": "code",
   "execution_count": null,
   "metadata": {
    "collapsed": false
   },
   "outputs": [],
   "source": [
    "reviews = pd.DataFrame()\n",
    "with open('data/yelp_academic_dataset_review.json', 'r') as f:\n",
    "    for line in f:\n",
    "        df = pd.read_json(line).set_index('review_id').iloc[[0]].drop(['user_id','votes','type'], axis=1)\n",
    "        reviews = reviews.append(df)\n",
    "reviews = reviews.rename(\n",
    "    columns = {'business_id':'yelp_id'}\n",
    ").merge(\n",
    "    idtable, \n",
    "    on = 'yelp_id'\n",
    ").drop(\n",
    "    'yelp_id', \n",
    "    axis = 1\n",
    ")\n",
    "reviews[['date']] = pd.to_datetime(reviews.date)"
   ]
  },
  {
   "cell_type": "code",
   "execution_count": 14,
   "metadata": {
    "collapsed": false
   },
   "outputs": [],
   "source": [
    "reviews.to_pickle('data/reviews.pkl')"
   ]
  },
  {
   "cell_type": "code",
   "execution_count": 15,
   "metadata": {
    "collapsed": true
   },
   "outputs": [],
   "source": [
    "for row in range(len(violations)):\n",
    "    ri = violations.restaurant_id.iloc[row]\n",
    "    t = violations.date.iloc[row]\n",
    "    r = reviews[\n",
    "        (reviews.restaurant_id == ri) &\n",
    "        (reviews.date <= t - timedelta(days = 5)) &\n",
    "        (reviews.date >= t - timedelta(days = 365))\n",
    "    ]\n",
    "    violations['rating'].iloc[row] = r.stars.mean()\n",
    "    violations['reviews'].iloc[row] = r['text'].astype(str).str.cat(sep=' ')"
   ]
  },
  {
   "cell_type": "code",
   "execution_count": 16,
   "metadata": {
    "collapsed": true
   },
   "outputs": [],
   "source": [
    "violations.to_pickle('data/violations.pkl')"
   ]
  },
  {
   "cell_type": "code",
   "execution_count": 17,
   "metadata": {
    "collapsed": false
   },
   "outputs": [],
   "source": [
    "violations['rating'] = violations.rating.fillna(5)\n",
    "violations = violations[violations.delay > 45]\n",
    "violations = violations.drop(['latitude','longitude'], axis=1)"
   ]
  },
  {
   "cell_type": "code",
   "execution_count": 18,
   "metadata": {
    "collapsed": false
   },
   "outputs": [],
   "source": [
    "%reset_selective -f reviews\n",
    "%reset_selective -f idtable"
   ]
  },
  {
   "cell_type": "markdown",
   "metadata": {
    "collapsed": true
   },
   "source": [
    "---\n",
    "# Building a first predictive model\n",
    "## First, a naive Bayes classifier based on textual reviews:"
   ]
  },
  {
   "cell_type": "code",
   "execution_count": 19,
   "metadata": {
    "collapsed": false
   },
   "outputs": [],
   "source": [
    "from sklearn.feature_extraction.text import CountVectorizer\n",
    "from sklearn.cross_validation import train_test_split\n",
    "from sklearn.naive_bayes import MultinomialNB"
   ]
  },
  {
   "cell_type": "code",
   "execution_count": 20,
   "metadata": {
    "collapsed": false
   },
   "outputs": [
    {
     "data": {
      "text/plain": [
       "(0.75239664469742362, 0.64071856287425155)"
      ]
     },
     "execution_count": 20,
     "metadata": {},
     "output_type": "execute_result"
    }
   ],
   "source": [
    "vectorizer = CountVectorizer(min_df = 0.0, max_df = 1.0, ngram_range = (2,4))\n",
    "\n",
    "X1 = vectorizer.fit_transform(violations.reviews).tocsc()\n",
    "y = (violations['*'] + violations['**'] + violations['***'] > 0).values.astype(np.int)\n",
    "X2 = violations.iloc[:,7:53]\n",
    "\n",
    "X1train, X1test, X2train, X2test, ytrain, ytest = train_test_split(X1, X2, y, train_size=.8)\n",
    "\n",
    "clf1 = MultinomialNB(alpha = 5)\n",
    "clf1.fit(X1train, ytrain)\n",
    "clf1.score(X1train, ytrain), clf1.score(X1test, ytest)"
   ]
  },
  {
   "cell_type": "markdown",
   "metadata": {},
   "source": [
    "## The probabilities from the naive Bayes classifier are now used as one of the features of a logistic regression classifier:"
   ]
  },
  {
   "cell_type": "code",
   "execution_count": 21,
   "metadata": {
    "collapsed": false
   },
   "outputs": [
    {
     "data": {
      "text/plain": [
       "(0.89289994008388252, 0.81437125748502992)"
      ]
     },
     "execution_count": 21,
     "metadata": {},
     "output_type": "execute_result"
    }
   ],
   "source": [
    "from sklearn.linear_model import LogisticRegression\n",
    "X2train['text'] = clf1.predict_proba(X1train)[:,1]\n",
    "X2test['text'] = clf1.predict_proba(X1test)[:,1]\n",
    "clf2 = LogisticRegression(C = 8)\n",
    "clf2.fit(X2train, ytrain)\n",
    "clf2.score(X2train, ytrain), clf2.score(X2test, ytest)"
   ]
  },
  {
   "cell_type": "markdown",
   "metadata": {},
   "source": [
    "### Accuracies on training and test data are shown above.\n",
    "## The ROC curve and AUC:"
   ]
  },
  {
   "cell_type": "code",
   "execution_count": 22,
   "metadata": {
    "collapsed": false,
    "scrolled": false
   },
   "outputs": [
    {
     "data": {
      "image/png": "[encoded data removed]",
      "text/plain": [
       "<matplotlib.figure.Figure at 0xe259da0>"
      ]
     },
     "metadata": {},
     "output_type": "display_data"
    }
   ],
   "source": [
    "from sklearn.metrics import roc_curve\n",
    "plt.rcParams['figure.figsize'] = (4, 4)\n",
    "xroc, yroc, _ = roc_curve(ytest, clf2.predict_proba(X2test)[:,1])\n",
    "plt.plot(xroc, yroc)\n",
    "None"
   ]
  },
  {
   "cell_type": "code",
   "execution_count": 23,
   "metadata": {
    "collapsed": false
   },
   "outputs": [
    {
     "data": {
      "text/plain": [
       "0.81721117076040595"
      ]
     },
     "execution_count": 23,
     "metadata": {},
     "output_type": "execute_result"
    }
   ],
   "source": [
    "from sklearn.metrics import auc\n",
    "auc(xroc,yroc)"
   ]
  },
  {
   "cell_type": "markdown",
   "metadata": {},
   "source": [
    "## The precision-recall curve and corresponding AUC:"
   ]
  },
  {
   "cell_type": "code",
   "execution_count": 24,
   "metadata": {
    "collapsed": false
   },
   "outputs": [
    {
     "data": {
      "image/png": "[encoded data removed]",
      "text/plain": [
       "<matplotlib.figure.Figure at 0x712b06a0>"
      ]
     },
     "metadata": {},
     "output_type": "display_data"
    }
   ],
   "source": [
    "from sklearn.metrics import precision_recall_curve\n",
    "xprc, yprc, _ = precision_recall_curve(ytest, clf2.predict_proba(X2test)[:,1])\n",
    "plt.plot(xprc, yprc)\n",
    "None"
   ]
  },
  {
   "cell_type": "code",
   "execution_count": 25,
   "metadata": {
    "collapsed": false
   },
   "outputs": [
    {
     "data": {
      "text/plain": [
       "0.83432111734590175"
      ]
     },
     "execution_count": 25,
     "metadata": {},
     "output_type": "execute_result"
    }
   ],
   "source": [
    "auc(yprc,xprc)"
   ]
  },
  {
   "cell_type": "code",
   "execution_count": null,
   "metadata": {
    "collapsed": true
   },
   "outputs": [],
   "source": []
  },
  {
   "cell_type": "code",
   "execution_count": null,
   "metadata": {
    "collapsed": true
   },
   "outputs": [],
   "source": []
  },
  {
   "cell_type": "code",
   "execution_count": null,
   "metadata": {
    "collapsed": true
   },
   "outputs": [],
   "source": []
  }
 ],
 "metadata": {
  "anaconda-cloud": {},
  "kernelspec": {
   "display_name": "Python 3",
   "language": "python",
   "name": "python3"
  },
  "language_info": {
   "codemirror_mode": {
    "name": "ipython",
    "version": 3
   },
   "file_extension": ".py",
   "mimetype": "text/x-python",
   "name": "python",
   "nbconvert_exporter": "python",
   "pygments_lexer": "ipython3",
   "version": "3.5.1"
  }
 },
 "nbformat": 4,
 "nbformat_minor": 0
}
